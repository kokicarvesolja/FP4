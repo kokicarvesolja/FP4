{
 "cells": [
  {
   "cell_type": "code",
   "execution_count": 21,
   "metadata": {},
   "outputs": [],
   "source": [
    "import matplotlib.pyplot as plt\n",
    "from matplotlib import rc\n",
    "import numpy as np\n",
    "from scipy.optimize import curve_fit\n",
    "from uncertainties import ufloat\n",
    "from uncertainties import unumpy as unp\n",
    "import array_to_latex as a2l\n",
    "import csv\n",
    "import pandas as pd\n",
    "from astropy.io.votable import parse\n",
    "from astropy.table import QTable, Table, Column\n",
    "from functools import reduce\n",
    "\n",
    "rc('font', **{'family': 'serif', 'serif': ['Computer Modern']}) #font na grafih je LaTexov\n",
    "rc('text', usetex=True)\n",
    "rc('text.latex', preamble=r'\\usepackage{siunitx}')"
   ]
  },
  {
   "cell_type": "code",
   "execution_count": 25,
   "metadata": {},
   "outputs": [],
   "source": [
    " def join(body_1, body_2):\n",
    "    m_1, r_1, J_1 = body_1\n",
    "    m_2, r_2, J_2 = body_2\n",
    "    # New center of mass\n",
    "    M = m_1 + m_2\n",
    "    R = m_1/M * r_1 + m_2/M * r_2\n",
    "    # Old centers of mass from new center of mass\n",
    "    R_1 = r_1 - R\n",
    "    R_2 = r_2 - R\n",
    "    # Parallel axis theorem\n",
    "    I = np.identity(3)\n",
    "    J = (J_1 + J_2 +\n",
    "        m_1 * (np.sum(R_1**2) * I - np.outer(R_1, R_1)) +\n",
    "        m_2 * (np.sum(R_2**2) * I - np.outer(R_2, R_2))\n",
    "    )\n",
    "    return M, R, J\n",
    "\n",
    "def J_sph(m, r):\n",
    "    return 2/5 * m*r**2 * np.identity(3)\n",
    "\n",
    "def J_cyl(m, r, h):\n",
    "    J_xy = 1/4*m*r**2 + 1/12*m*h**2\n",
    "    J_z = 1/2 * m*r**2\n",
    "    return np.diag([J_xy, J_xy, J_z])"
   ]
  },
  {
   "cell_type": "code",
   "execution_count": 33,
   "metadata": {},
   "outputs": [],
   "source": [
    "g = 9.802\n",
    "# Sphere\n",
    "m_s = unp.uarray([515e-3],[1e-3])\n",
    "r_s = unp.uarray([50.8e-3/2], [0.1e-3/2])\n",
    "# Ring\n",
    "m_r = unp.uarray([15e-3], [1e-3])\n",
    "r_r = unp.uarray([51e-3/2], [0.1e-3/2])\n",
    "h_r = unp.uarray([1.1e-3], [0.1e-3/2])\n",
    "# Bar\n",
    "m_b = unp.uarray([27e-3], [1e-3])\n",
    "r_b = unp.uarray([6.5e-3/2], [0.1e-3/2])\n",
    "h_b = unp.uarray([100.5e-3], [0.1e-3])\n",
    "# Weight\n",
    "m_w = unp.uarray([18e-3], [1e-3])\n",
    "r_w = unp.uarray([20e-3/2], [0.5e-3/2])\n",
    "h_w = unp.uarray([25.2e-3], [0.1e-3])\n",
    "\n",
    "def composite_body(l, weight=True):\n",
    "    bodies = [\n",
    "        [m_s, np.array([0, 0, 0], dtype=object), J_sph(m_s, r_s)], # Sphere\n",
    "        [m_r, np.array([0, 0, r_s+h_r/2], dtype=object), J_cyl(m_r, r_r, h_r)], # Ring\n",
    "        [m_b, np.array([0, 0, r_s+h_b/2], dtype=object), J_cyl(m_b, r_b, h_b)] # Bar\n",
    "    ]\n",
    "    if weight:\n",
    "        bodies.append([m_w, np.array([0, 0, r_s+l+r_w/2], dtype=object), J_cyl(m_w, r_w, h_w)])\n",
    "    return reduce(join, bodies)"
   ]
  },
  {
   "cell_type": "code",
   "execution_count": 48,
   "metadata": {},
   "outputs": [
    {
     "name": "stdout",
     "output_type": "stream",
     "text": [
      "\\begin{array}\n",
      "  350.00 &   50.00 &    0.79 &    0.12 &    2.86 &    0.41\\\\\n",
      "  510.00 &   50.00 &    0.55 &    0.06 &    4.17 &    0.41\\\\\n",
      "  600.00 &   50.00 &    0.46 &    0.04 &    4.90 &    0.41\n",
      "\\end{array}\n",
      "None\n"
     ]
    }
   ],
   "source": [
    "l = 0\n",
    "m, r_cm, J_cm = composite_body(l)\n",
    "h_star = unp.sqrt(np.sum(r_cm**2))\n",
    "J_11, J_22, J_33 = np.diag(J_cm)\n",
    "\n",
    "v_z_rpm = unp.uarray([350, 510, 600], 3 * [50])\n",
    "\n",
    "v_z_rpm = v_z_rpm / 60\n",
    "\n",
    "v_pr = 1 / (2 * np.pi) ** 2 * m * g * h_star / (J_33 * v_z_rpm)\n",
    "\n",
    "v_nu = J_33 / J_11 * v_z_rpm\n",
    "\n",
    "data = np.array([unp.nominal_values(v_z_rpm) *60, unp.std_devs(v_z_rpm) * 60, unp.nominal_values(v_pr), unp.std_devs(v_pr), unp.nominal_values(v_nu), unp.std_devs(v_nu)]).T\n",
    "\n",
    "#data = np.squeeze(data, axis=1).T \n",
    "\n",
    "print(a2l.to_ltx(data, frmt='{:6.2f}', arraytype='array'))\n",
    "\n"
   ]
  },
  {
   "cell_type": "code",
   "execution_count": 52,
   "metadata": {},
   "outputs": [
    {
     "name": "stdout",
     "output_type": "stream",
     "text": [
      "\\begin{array}\n",
      "  370.00 &   50.00 &    0.91 &    0.13 &    2.60 &    0.35\\\\\n",
      "  510.00 &   50.00 &    0.66 &    0.07 &    3.58 &    0.35\\\\\n",
      "  580.00 &   50.00 &    0.58 &    0.05 &    4.07 &    0.36\n",
      "\\end{array}\n",
      "None\n"
     ]
    }
   ],
   "source": [
    "l = 3.5e-2\n",
    "m, r_cm, J_cm = composite_body(l)\n",
    "h_star = unp.sqrt(np.sum(r_cm**2))\n",
    "J_11, J_22, J_33 = np.diag(J_cm)\n",
    "\n",
    "v_z_rpm = unp.uarray([370, 510, 580], 3 * [50])\n",
    "\n",
    "v_z_rpm = v_z_rpm / 60\n",
    "\n",
    "v_pr = 1 / (2 * np.pi) ** 2 * m * g * h_star / (J_33 * v_z_rpm)\n",
    "\n",
    "v_nu = J_33 / J_11 * v_z_rpm\n",
    "\n",
    "data = np.array([unp.nominal_values(v_z_rpm) *60, unp.std_devs(v_z_rpm) * 60, unp.nominal_values(v_pr), unp.std_devs(v_pr), unp.nominal_values(v_nu), unp.std_devs(v_nu)]).T\n",
    "\n",
    "print(a2l.to_ltx(data, frmt='{:6.2f}', arraytype='array'))\n"
   ]
  },
  {
   "cell_type": "code",
   "execution_count": 53,
   "metadata": {},
   "outputs": [
    {
     "name": "stdout",
     "output_type": "stream",
     "text": [
      "\\begin{array}\n",
      "  300.00 &   50.00 &    1.29 &    0.22 &    1.74 &    0.29\\\\\n",
      "  410.00 &   50.00 &    0.94 &    0.12 &    2.38 &    0.29\\\\\n",
      "  510.00 &   50.00 &    0.76 &    0.08 &    2.96 &    0.30\n",
      "\\end{array}\n",
      "None\n"
     ]
    }
   ],
   "source": [
    "l = 6.5e-2\n",
    "m, r_cm, J_cm = composite_body(l)\n",
    "h_star = unp.sqrt(np.sum(r_cm**2))\n",
    "J_11, J_22, J_33 = np.diag(J_cm)\n",
    "\n",
    "v_z_rpm = unp.uarray([300, 410, 510], 3 * [50])\n",
    "\n",
    "v_z_rpm = v_z_rpm / 60\n",
    "\n",
    "v_pr = 1 / (2 * np.pi) ** 2 * m * g * h_star / (J_33 * v_z_rpm)\n",
    "\n",
    "v_nu = J_33 / J_11 * v_z_rpm\n",
    "\n",
    "data = np.array([unp.nominal_values(v_z_rpm) *60, unp.std_devs(v_z_rpm) * 60, unp.nominal_values(v_pr), unp.std_devs(v_pr), unp.nominal_values(v_nu), unp.std_devs(v_nu)]).T\n",
    "\n",
    "print(a2l.to_ltx(data, frmt='{:6.2f}', arraytype='array'))"
   ]
  }
 ],
 "metadata": {
  "kernelspec": {
   "display_name": "Python 3",
   "language": "python",
   "name": "python3"
  },
  "language_info": {
   "codemirror_mode": {
    "name": "ipython",
    "version": 3
   },
   "file_extension": ".py",
   "mimetype": "text/x-python",
   "name": "python",
   "nbconvert_exporter": "python",
   "pygments_lexer": "ipython3",
   "version": "3.10.10"
  },
  "orig_nbformat": 4,
  "vscode": {
   "interpreter": {
    "hash": "e7370f93d1d0cde622a1f8e1c04877d8463912d04d973331ad4851f04de6915a"
   }
  }
 },
 "nbformat": 4,
 "nbformat_minor": 2
}
