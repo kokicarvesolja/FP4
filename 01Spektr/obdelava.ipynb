{
 "cells": [
  {
   "cell_type": "code",
   "execution_count": 2,
   "metadata": {},
   "outputs": [],
   "source": [
    "import matplotlib.pyplot as plt\n",
    "from matplotlib import rc\n",
    "import numpy as np\n",
    "from scipy.optimize import curve_fit\n",
    "from uncertainties import ufloat\n",
    "from uncertainties import unumpy as unp\n",
    "import array_to_latex as a2l\n",
    "import csv\n",
    "import pandas as pd\n",
    "from astropy.io.votable import parse\n",
    "from astropy.table import QTable, Table, Column\n",
    "\n",
    "rc('font', **{'family': 'serif', 'serif': ['Computer Modern']}) #font na grafih je LaTexov\n",
    "rc('text', usetex=True)"
   ]
  },
  {
   "cell_type": "code",
   "execution_count": 4,
   "metadata": {},
   "outputs": [],
   "source": [
    "def fja (x, A, B, C): \n",
    "    return A + B * x + C * np.sqrt(x)"
   ]
  },
  {
   "cell_type": "code",
   "execution_count": 5,
   "metadata": {},
   "outputs": [
    {
     "name": "stdout",
     "output_type": "stream",
     "text": [
      "94.18578546778163 8.86217398347945 6.71745126916404 1.6731316564838805 -11.568414579001555 2.4412614451487764\n"
     ]
    },
    {
     "data": {
      "image/png": "[encoded data removed]",
      "text/plain": [
       "<Figure size 432x288 with 1 Axes>"
      ]
     },
     "metadata": {
      "needs_background": "light"
     },
     "output_type": "display_data"
    }
   ],
   "source": [
    "kot = unp.uarray([45.2, 45.4, 47.1, 44.5, 46.0, 47.2], 6 * [0.1])\n",
    "\n",
    "dolz = unp.uarray([578, 546, 436, 656, 486, 434], 6 * [0]) * 1e-9\n",
    "\n",
    "par, cov = curve_fit(fja, unp.nominal_values(dolz), unp.nominal_values(kot), sigma=unp.std_devs(kot), absolute_sigma=True)\n",
    "\n",
    "A, B, C = par\n",
    "\n",
    "dA, dB, dC = np.sqrt(np.diag(cov))\n",
    "\n",
    "print(A, dA, B*1e-7, dB*1e-7, C*1e-4, dC*1e-4)\n",
    "\n",
    "fig, ax = plt.subplots()\n",
    "\n",
    "ax.errorbar(1e9 * unp.nominal_values(dolz)[:3], unp.nominal_values(kot)[:3], yerr=unp.std_devs(kot)[:3], color='tab:red', fmt='s', label=\"Hg\")\n",
    "\n",
    "ax.errorbar(1e9 * unp.nominal_values(dolz)[3:], unp.nominal_values(kot)[3:], yerr=unp.std_devs(kot)[3:], color='tab:orange', fmt='s', label='$H_2$')\n",
    "\n",
    "dolz_lin = np.linspace(np.min(unp.nominal_values(dolz)) - 20e-9, np.max(unp.nominal_values(dolz)) +  20e-9)\n",
    "\n",
    "ax.plot(1e9 * dolz_lin, fja(dolz_lin, A, B, C), color='grey', zorder=-1, label='regresija')\n",
    "\n",
    "ax.set_title(r'Umeritev kotne skale spektroskopa s Hg in $H_2$')\n",
    "ax.set_xlabel('$\\lambda [nm]$')\n",
    "ax.set_ylabel('$\\phi [^{\\circ}]$')\n",
    "ax.set_xlim(1e9 * np.min(dolz_lin), 1e9 * np.max(dolz_lin))\n",
    "ax.legend()\n",
    "fig.tight_layout()\n",
    "fig.savefig('kalibracija.pdf')"
   ]
  },
  {
   "cell_type": "code",
   "execution_count": 7,
   "metadata": {},
   "outputs": [],
   "source": [
    " from numba import vectorize\n",
    "\n",
    "def makefunc_calc_dolz(A, B, C):\n",
    "    @vectorize\n",
    "    def calc_dolz(kot):\n",
    "        return ((-C - np.sqrt(C**2 - 4*B*(A-kot))) / (2*B))**2\n",
    "    return calc_dolz\n",
    "\n",
    "calc_dolz = makefunc_calc_dolz(A, B, C)"
   ]
  },
  {
   "cell_type": "code",
   "execution_count": 8,
   "metadata": {},
   "outputs": [],
   "source": [
    "import imageio.v2 as imageio\n",
    "\n",
    "spectrum = imageio.imread('./sRGB-approx.png', pilmode='RGB')[0]\n",
    "\n",
    "def colormap(dolz): \n",
    "    i = np.interp(dolz, [380e-9, 710e-9], [0, len(spectrum)]).astype(int)\n",
    "    return spectrum[i]/255"
   ]
  },
  {
   "cell_type": "code",
   "execution_count": 54,
   "metadata": {},
   "outputs": [
    {
     "name": "stdout",
     "output_type": "stream",
     "text": [
      "\\begin{array}\n",
      "    47.3 &   425.8\\\\\n",
      "    46.4 &   472.9\\\\\n",
      "    45.8 &   512.2\\\\\n",
      "    45.5 &   535.7\\\\\n",
      "    45.2 &   563.3\n",
      "\\end{array}\n",
      "None\n"
     ]
    },
    {
     "data": {
      "image/png": "[encoded data removed]",
      "text/plain": [
       "<Figure size 432x100.8 with 1 Axes>"
      ]
     },
     "metadata": {
      "needs_background": "light"
     },
     "output_type": "display_data"
    }
   ],
   "source": [
    "# varčna žarnica \n",
    "\n",
    "kot1 = np.array([47.3, 46.4, 45.8, 45.5, 45.2])\n",
    "\n",
    "dolz = calc_dolz(kot1)\n",
    "\n",
    "fig, ax = plt.subplots(1, 1, figsize=(6, 1.4))\n",
    "\n",
    "ax.bar(1e9 * dolz, 1, width=2, color=colormap(dolz))\n",
    "\n",
    "ax.set_title('Varčna žarnica')\n",
    "ax.set_xlabel('$\\lambda [nm]$')\n",
    "ax.set_facecolor('k')\n",
    "ax.set_xlim(390, 710)\n",
    "ax.set_yticks([])\n",
    "ax.set_yticklabels([])\n",
    "\n",
    "fig.tight_layout()\n",
    "fig.savefig('Vzarnica.pdf')\n",
    "\n",
    "data = np.array([kot1, dolz * 1e9]).T\n",
    "\n",
    "print(a2l.to_ltx(data, frmt='{:6.1f}', arraytype='array'))"
   ]
  },
  {
   "cell_type": "code",
   "execution_count": 57,
   "metadata": {},
   "outputs": [
    {
     "name": "stdout",
     "output_type": "stream",
     "text": [
      "[[ 47.1         46.         435.37861904 498.09568351]\n",
      " [ 45.4         45.1        544.3836605  573.82805493]\n",
      " [ 45.          44.7        585.17974115 627.28030799]\n",
      " [ 45.6         45.         527.49011839 585.17974115]]\n",
      "\\begin{array}\n",
      "    47.1 &    46.0 &   435.4 &   498.1\\\\\n",
      "    45.4 &    45.1 &   544.4 &   573.8\\\\\n",
      "    45.0 &    44.7 &   585.2 &   627.3\\\\\n",
      "    45.6 &    45.0 &   527.5 &   585.2\n",
      "\\end{array}\n",
      "None\n"
     ]
    },
    {
     "data": {
      "image/png": "[encoded data removed]",
      "text/plain": [
       "<Figure size 432x345.6 with 4 Axes>"
      ]
     },
     "metadata": {
      "needs_background": "light"
     },
     "output_type": "display_data"
    }
   ],
   "source": [
    "# LED \n",
    "\n",
    "kotmin = np.array([47.1, 45.4, 45.0, 45.6])\n",
    "\n",
    "kotmax = np.array([46.0, 45.1, 44.7, 45.0])\n",
    "\n",
    "\n",
    "dolzmin = calc_dolz(kotmin)\n",
    "\n",
    "dolzmax = calc_dolz(kotmax)\n",
    "\n",
    "data = np.array([kotmin, kotmax, dolzmin * 1e9, dolzmax * 1e9]).T\n",
    "\n",
    "\n",
    "fig, axs = plt.subplots(4, 1, figsize=(6, 4 * 1.2))\n",
    "\n",
    "aux = [\n",
    "    ['Modra', 'Rumena', 'Rdeča', 'Zelena'], axs.flat, \n",
    "    np.stack([dolzmin, dolzmax], axis=1), \n",
    "    np.stack([kotmin, kotmax], axis=1)\n",
    "]\n",
    "\n",
    "for name, ax, (dolzmin, dolzmax), (kotmin, kotmax) in zip(*aux): \n",
    "    1e9 * calc_dolz(45.4)\n",
    "    ddolz = 5e-9\n",
    "    \n",
    "    dolz_lin = np.linspace(dolzmin, dolzmax, int((dolzmax - dolzmin) / ddolz))\n",
    "\n",
    "    for d in dolz_lin:\n",
    "        ax.bar(1e9 * d, 1, width=1e9 * 1.2 * ddolz, color=colormap(d))\n",
    "\n",
    "        ax.set_title(f'{name} LED dioda')\n",
    "        ax.set_xlabel('$\\lambda [nm]$')\n",
    "        ax.set_facecolor('k')\n",
    "        ax.set_xlim(390, 710)\n",
    "        ax.set_yticks([])\n",
    "        ax.set_yticklabels([])\n",
    "\n",
    "\n",
    "\n",
    "fig.tight_layout()\n",
    "fig.savefig('led.pdf')\n",
    "\n",
    "print(a2l.to_ltx(data, frmt='{:6.1f}', arraytype='array'))"
   ]
  },
  {
   "cell_type": "code",
   "execution_count": 101,
   "metadata": {},
   "outputs": [
    {
     "name": "stdout",
     "output_type": "stream",
     "text": [
      "7.11746094959622e-07 6.460836267245875e-07\n",
      "6.460836267245875e-07 5.535636327650585e-07\n",
      "5.535636327650585e-07 4.85046544417216e-07\n",
      "4.85046544417216e-07 4.2584237684249804e-07\n",
      "4.2584237684249804e-07 3.8762079916541835e-07\n",
      "544.383660503319\n"
     ]
    },
    {
     "data": {
      "image/png": "[encoded data removed]",
      "text/plain": [
       "<Figure size 432x100.8 with 1 Axes>"
      ]
     },
     "metadata": {
      "needs_background": "light"
     },
     "output_type": "display_data"
    }
   ],
   "source": [
    "# Wolfram\n",
    "\n",
    "kotmin = np.array([44.4, 44.6, 45.3, 46.2, 47.3])\n",
    "\n",
    "kotmax = np.array([44.6, 45.3, 46.2, 47.3, 48.2])\n",
    "\n",
    "\n",
    "dolzmin = calc_dolz(kotmin)\n",
    "\n",
    "dolzmax = calc_dolz(kotmax)\n",
    "\n",
    "data = np.array([kotmin, kotmax, dolzmin * 1e9, dolzmax * 1e9]).T\n",
    "\n",
    "\n",
    "fig, axs = plt.subplots(1, 1, figsize=(6, 1.4))\n",
    "\n",
    "axs.plot(1e9 * calc_dolz(45.4), 0.2, linestyle='', zorder=10, marker='^', color='k', label='največja intenziteta')\n",
    "\n",
    "\n",
    "aux = [\n",
    "    ['Modra', 'Rumena', 'Rdeča', 'Zelena', 'bla'], \n",
    "    np.stack([dolzmin, dolzmax], axis=1), \n",
    "    np.stack([kotmin, kotmax], axis=1)\n",
    "]\n",
    "\n",
    "\n",
    "for name, (dolzmin, dolzmax), (kotmin, kotmax) in zip(*aux):\n",
    "    print(dolzmin, dolzmax) \n",
    "    d = (dolzmin + dolzmax) / 2\n",
    "    dd = dolzmax - dolzmin\n",
    "    axs.bar(1e9 * d, 1, width=1e9 * dd, color=colormap(d))\n",
    "\n",
    "\n",
    "axs.set_title(r'Wolframska žarnica po območjih')\n",
    "axs.set_xlabel('$\\lambda [nm]$')\n",
    "axs.set_facecolor('k')\n",
    "axs.set_xlim(390, 710)\n",
    "axs.legend()\n",
    "axs.set_yticks([])\n",
    "axs.set_yticklabels([])\n",
    "\n",
    "1e9 * calc_dolz(45.4)\n",
    "fig.tight_layout()\n",
    "fig.savefig('wolfram.pdf')\n",
    "\n",
    "\n",
    "print(1e9 * calc_dolz(45.4))"
   ]
  },
  {
   "cell_type": "code",
   "execution_count": 10,
   "metadata": {},
   "outputs": [
    {
     "name": "stdout",
     "output_type": "stream",
     "text": [
      "\\begin{array}\n",
      "    45.1 &   573.8\\\\\n",
      "    45.3 &   553.6\\\\\n",
      "    45.5 &   535.7\\\\\n",
      "    45.8 &   512.2\\\\\n",
      "    46.1 &   491.5\\\\\n",
      "    46.3 &   478.9\\\\\n",
      "    46.5 &   467.0\\\\\n",
      "    46.7 &   455.9\\\\\n",
      "    46.7 &   455.9\n",
      "\\end{array}\n",
      "None\n"
     ]
    },
    {
     "data": {
      "image/png": "[encoded data removed]",
      "text/plain": [
       "<Figure size 432x100.8 with 1 Axes>"
      ]
     },
     "metadata": {
      "needs_background": "light"
     },
     "output_type": "display_data"
    }
   ],
   "source": [
    "# no2\n",
    "\n",
    "kot2 = np.array([45.1, 45.3, 45.5, 45.8, 46.1, 46.3, 46.5, 46.7, 46.7])\n",
    "\n",
    "dolz = calc_dolz(kot2)\n",
    "\n",
    "fig, ax = plt.subplots(1, 1, figsize=(6, 1.4))\n",
    "\n",
    "ax.bar(1e9 * dolz, 1, width=2, color=colormap(dolz))\n",
    "\n",
    "ax.set_title('$NO_2$')\n",
    "ax.set_xlabel('$\\lambda [nm]$')\n",
    "ax.set_facecolor('k')\n",
    "ax.set_xlim(390, 710)\n",
    "ax.set_yticks([])\n",
    "ax.set_yticklabels([])\n",
    "\n",
    "fig.tight_layout()\n",
    "fig.savefig('no2.pdf')\n",
    "\n",
    "data = np.array([kot2, dolz*1e9]).T \n",
    "\n",
    "print(a2l.to_ltx(data, frmt='{:6.1f}', arraytype='array'))"
   ]
  },
  {
   "cell_type": "code",
   "execution_count": 108,
   "metadata": {},
   "outputs": [
    {
     "name": "stdout",
     "output_type": "stream",
     "text": [
      "\\begin{array}\n",
      "    44.5 &   670.3\\\\\n",
      "    44.6 &   646.1\\\\\n",
      "    45.1 &   573.8\\\\\n",
      "    45.9 &   505.0\\\\\n",
      "    46.0 &   498.1\\\\\n",
      "    46.4 &   472.9\\\\\n",
      "    46.8 &   450.6\\\\\n",
      "    47.0 &   440.3\n",
      "\\end{array}\n",
      "None\n"
     ]
    },
    {
     "data": {
      "image/png": "[encoded data removed]",
      "text/plain": [
       "<Figure size 432x100.8 with 1 Axes>"
      ]
     },
     "metadata": {
      "needs_background": "light"
     },
     "output_type": "display_data"
    }
   ],
   "source": [
    "# he\n",
    "\n",
    "kot3 = np.array([44.5, 44.6, 45.1, 45.9, 46.0, 46.4, 46.8, 47.0])\n",
    "\n",
    "dolz = calc_dolz(kot3)\n",
    "\n",
    "fig, ax = plt.subplots(1, 1, figsize=(6, 1.4))\n",
    "\n",
    "ax.bar(1e9 * dolz, 1, width=2, color=colormap(dolz))\n",
    "\n",
    "ax.set_title('$He$')\n",
    "ax.set_xlabel('$\\lambda [nm]$')\n",
    "ax.set_facecolor('k')\n",
    "ax.set_xlim(390, 710)\n",
    "ax.set_yticks([])\n",
    "ax.set_yticklabels([])\n",
    "\n",
    "fig.tight_layout()\n",
    "fig.savefig('He.pdf')\n",
    "\n",
    "data = np.array([kot3, dolz * 1e9]).T\n",
    "\n",
    "print(a2l.to_ltx(data, frmt='{:6.1f}', arraytype='array'))"
   ]
  },
  {
   "cell_type": "code",
   "execution_count": 107,
   "metadata": {},
   "outputs": [
    {
     "name": "stdout",
     "output_type": "stream",
     "text": [
      "\\begin{array}\n",
      "    45.0 &   585.2\\\\\n",
      "    45.2 &   563.3\\\\\n",
      "    45.4 &   544.4\\\\\n",
      "    45.8 &   512.2\\\\\n",
      "    46.7 &   455.9\n",
      "\\end{array}\n",
      "None\n"
     ]
    },
    {
     "data": {
      "image/png": "[encoded data removed]",
      "text/plain": [
       "<Figure size 432x100.8 with 1 Axes>"
      ]
     },
     "metadata": {
      "needs_background": "light"
     },
     "output_type": "display_data"
    }
   ],
   "source": [
    "# he\n",
    "\n",
    "kot4 = np.array([45.0, 45.2, 45.4, 45.8, 46.7])\n",
    "\n",
    "dolz = calc_dolz(kot4)\n",
    "\n",
    "fig, ax = plt.subplots(1, 1, figsize=(6, 1.4))\n",
    "\n",
    "ax.bar(1e9 * dolz, 1, width=2, color=colormap(dolz))\n",
    "\n",
    "ax.set_title('$Ne$')\n",
    "ax.set_xlabel('$\\lambda [nm]$')\n",
    "ax.set_facecolor('k')\n",
    "ax.set_xlim(390, 710)\n",
    "ax.set_yticks([])\n",
    "ax.set_yticklabels([])\n",
    "\n",
    "fig.tight_layout()\n",
    "fig.savefig('Ne.pdf')\n",
    "\n",
    "data = np.array([kot4, dolz * 1e9]).T\n",
    "\n",
    "print(a2l.to_ltx(data, frmt='{:6.1f}', arraytype='array'))"
   ]
  }
 ],
 "metadata": {
  "kernelspec": {
   "display_name": "Python 3",
   "language": "python",
   "name": "python3"
  },
  "language_info": {
   "codemirror_mode": {
    "name": "ipython",
    "version": 3
   },
   "file_extension": ".py",
   "mimetype": "text/x-python",
   "name": "python",
   "nbconvert_exporter": "python",
   "pygments_lexer": "ipython3",
   "version": "3.10.9 (main, Dec 19 2022, 17:35:49) [GCC 12.2.0]"
  },
  "orig_nbformat": 4,
  "vscode": {
   "interpreter": {
    "hash": "e7370f93d1d0cde622a1f8e1c04877d8463912d04d973331ad4851f04de6915a"
   }
  }
 },
 "nbformat": 4,
 "nbformat_minor": 2
}
