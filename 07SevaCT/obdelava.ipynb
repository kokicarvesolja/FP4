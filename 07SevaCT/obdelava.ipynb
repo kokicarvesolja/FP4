{
 "cells": [
  {
   "cell_type": "code",
   "execution_count": 1,
   "metadata": {},
   "outputs": [],
   "source": [
    "import matplotlib.pyplot as plt\n",
    "from matplotlib import rc\n",
    "import numpy as np\n",
    "from scipy.optimize import curve_fit\n",
    "from uncertainties import ufloat\n",
    "from uncertainties import unumpy as unp\n",
    "import array_to_latex as a2l\n",
    "import csv\n",
    "import pandas as pd\n",
    "from astropy.io.votable import parse\n",
    "from astropy.table import QTable, Table, Column\n",
    "\n",
    "rc('font', **{'family': 'serif', 'serif': ['Computer Modern']}) #font na grafih je LaTexov\n",
    "rc('text', usetex=True)"
   ]
  },
  {
   "cell_type": "code",
   "execution_count": 2,
   "metadata": {},
   "outputs": [],
   "source": [
    "def linearna(x, k, n): \n",
    "    return k*x + n "
   ]
  },
  {
   "cell_type": "code",
   "execution_count": 39,
   "metadata": {},
   "outputs": [],
   "source": [
    "data_air = np.array(pd.read_csv('meas_air.csv', delimiter=';'))\n",
    "data_si = np.array(pd.read_csv('meas_si.csv', delimiter=';'))\n",
    "\n",
    "Pz_air = data_air[:, 0]\n",
    "Iz_air = data_air[:, 1]\n",
    "Uz_air = data_air[:, 2]\n",
    "Ps_air = data_air[:, 3]\n",
    "\n",
    "Pz_si = data_si[:, 0]\n",
    "Iz_si = data_si[:, 1]\n",
    "Uz_si = data_si[:, 2]\n",
    "Ps_si = data_si[:, 3]"
   ]
  },
  {
   "cell_type": "code",
   "execution_count": 40,
   "metadata": {},
   "outputs": [],
   "source": [
    "R0 = unp.uarray([123.4], [0.1])\n",
    "d = unp.uarray([74e-2], [1e-2])"
   ]
  },
  {
   "cell_type": "code",
   "execution_count": 41,
   "metadata": {},
   "outputs": [
    {
     "data": {
      "text/plain": [
       "array([0.90354+/-0.02442, 0.783068+/-0.021164000000000002,\n",
       "       0.76664+/-0.020720000000000002,\n",
       "       0.7173560000000001+/-0.019388000000000002,\n",
       "       0.668072+/-0.018056000000000003, 0.607836+/-0.016428,\n",
       "       0.5432192+/-0.014681600000000003, 0.4594364+/-0.012417200000000002,\n",
       "       0.4276756+/-0.011558800000000003, 0.3636064+/-0.009827200000000001,\n",
       "       0.29734679999999997+/-0.0080364, 0.2261588+/-0.006112400000000001,\n",
       "       0.1812556+/-0.004898800000000001,\n",
       "       0.1106152+/-0.0029896000000000002,\n",
       "       0.062974+/-0.0017020000000000002], dtype=object)"
      ]
     },
     "execution_count": 41,
     "metadata": {},
     "output_type": "execute_result"
    }
   ],
   "source": [
    "prost_kot = 1e-4 / (d ** 2)\n",
    "\n",
    "Ps_air_p = 1 / prost_kot * Ps_air\n",
    "\n",
    "Ps_si_p = (1 / prost_kot) * Ps_si\n",
    "\n",
    "k_air, _ = curve_fit(linearna, Pz_air, unp.nominal_values(Ps_air_p))\n",
    "\n",
    "k_si, _ = curve_fit(linearna, Pz_si, unp.nominal_values(Ps_si_p))\n",
    "\n",
    "Ps_si_p"
   ]
  },
  {
   "cell_type": "code",
   "execution_count": 44,
   "metadata": {},
   "outputs": [
    {
     "data": {
      "image/png": "[encoded data removed]",
      "text/plain": [
       "<Figure size 432x288 with 1 Axes>"
      ]
     },
     "metadata": {
      "needs_background": "light"
     },
     "output_type": "display_data"
    }
   ],
   "source": [
    "fig, ax = plt.subplots()\n",
    "\n",
    "ax.errorbar(Pz_air, unp.nominal_values(Ps_air_p), yerr=unp.std_devs(Ps_air_p), color='tab:red', linestyle='none', marker='o', label=r'$P$ brez zaslona')\n",
    "ax.errorbar(Pz_si, unp.nominal_values(Ps_si_p), yerr=unp.std_devs(Ps_si_p), color='k', linestyle='none', marker='o', label=r'$P$, silicijev zaslon')\n",
    "\n",
    "Pz_lin = np.linspace(0, 35)\n",
    "\n",
    "ax.plot(Pz_lin, linearna(Pz_lin, *k_air), color='k', zorder=-1)\n",
    "ax.plot(Pz_lin, linearna(Pz_lin, *k_si), color='k', zorder=-1)\n",
    "\n",
    "ax.set_title(r'Prepuščena moč $P$ za različne moči napajanja $P_e$')\n",
    "ax.set_xlabel(r'$P_e [W]$')\n",
    "ax.set_ylabel(r'$P [W]$')\n",
    "ax.set_xlim(0, 34)\n",
    "ax.legend()\n",
    "fig.tight_layout()\n",
    "fig.savefig('PPe.pdf')"
   ]
  }
 ],
 "metadata": {
  "kernelspec": {
   "display_name": "Python 3",
   "language": "python",
   "name": "python3"
  },
  "language_info": {
   "codemirror_mode": {
    "name": "ipython",
    "version": 3
   },
   "file_extension": ".py",
   "mimetype": "text/x-python",
   "name": "python",
   "nbconvert_exporter": "python",
   "pygments_lexer": "ipython3",
   "version": "3.10.10"
  },
  "orig_nbformat": 4,
  "vscode": {
   "interpreter": {
    "hash": "e7370f93d1d0cde622a1f8e1c04877d8463912d04d973331ad4851f04de6915a"
   }
  }
 },
 "nbformat": 4,
 "nbformat_minor": 2
}
