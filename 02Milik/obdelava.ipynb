{
 "cells": [
  {
   "cell_type": "code",
   "execution_count": 1,
   "metadata": {},
   "outputs": [],
   "source": [
    "import matplotlib.pyplot as plt\n",
    "from matplotlib import rc\n",
    "import numpy as np\n",
    "from scipy.optimize import curve_fit\n",
    "from uncertainties import ufloat\n",
    "from uncertainties import unumpy as unp\n",
    "import array_to_latex as a2l\n",
    "import csv\n",
    "import pandas as pd\n",
    "from astropy.io.votable import parse\n",
    "from astropy.table import QTable, Table, Column\n",
    "\n",
    "rc('font', **{'family': 'serif', 'serif': ['Computer Modern']}) #font na grafih je LaTexov\n",
    "rc('text', usetex=True)"
   ]
  },
  {
   "cell_type": "code",
   "execution_count": 28,
   "metadata": {},
   "outputs": [],
   "source": [
    "data = unp.uarray([13.4, 13.6, 17.7, 42.0, 24.8, 30.4, 27.1, 24.6, 22.8, 8.75, 29.9, 41.3, 51.5, 56.3, 27.7, 34.2, 50.3], 17*[0.001]) * 1e-6\n",
    "\n",
    "\n",
    "# Constants\n",
    "q_0_theor = 1.6022e-19\n",
    "g = 9.807\n",
    "p = 102e5\n",
    "T = 273.15 + 23\n",
    "M_zr = 28.96 # kg/kmol\n",
    "R = 8314 # J/K kmol \n",
    "rho_zr = p*M_zr / (R*T)\n",
    "nu_zr = 18.3e-6\n",
    "\n",
    "rho = 973\n",
    "d = unp.uarray([5e-3], [0.1e-3])\n",
    "U = 154"
   ]
  },
  {
   "cell_type": "code",
   "execution_count": 32,
   "metadata": {},
   "outputs": [
    {
     "name": "stdout",
     "output_type": "stream",
     "text": [
      "\\begin{array}\n",
      "    13.4 &    36.3 &     0.3\\\\\n",
      "    13.6 &    36.6 &     0.3\\\\\n",
      "    17.7 &    41.7 &     0.5\\\\\n",
      "    42.0 &    64.3 &     1.9\\\\\n",
      "    24.8 &    49.4 &     0.9\\\\\n",
      "    30.4 &    54.7 &     1.2\\\\\n",
      "    27.1 &    51.6 &     1.0\\\\\n",
      "    24.6 &    49.2 &     0.8\\\\\n",
      "    22.8 &    47.4 &     0.8\\\\\n",
      "     8.8 &    29.3 &     0.2\\\\\n",
      "    29.9 &    54.3 &     1.1\\\\\n",
      "    41.3 &    63.8 &     1.8\\\\\n",
      "    51.5 &    71.2 &     2.6\\\\\n",
      "    56.3 &    74.4 &     2.9\\\\\n",
      "    27.7 &    52.2 &     1.0\\\\\n",
      "    34.2 &    58.0 &     1.4\\\\\n",
      "    50.3 &    70.4 &     2.5\n",
      "\\end{array}\n",
      "None\n"
     ]
    }
   ],
   "source": [
    "r1 = unp.sqrt(( 9 * nu_zr * data ) / (2 * (rho - rho_zr) * g))\n",
    "\n",
    "E = U / d\n",
    "\n",
    "q1 = (4 * np.pi * r1 ** 3 * (rho - rho_zr) * g) / (3 * E)\n",
    "\n",
    "data1 = np.array([unp.nominal_values(data) * 1e6, unp.nominal_values(r1) * 1e8, unp.nominal_values(q1 / q_0_theor)]).T\n",
    "\n",
    "print(a2l.to_ltx(data1, frmt='{:6.1f}', arraytype='array'))"
   ]
  },
  {
   "cell_type": "code",
   "execution_count": 26,
   "metadata": {},
   "outputs": [
    {
     "name": "stdout",
     "output_type": "stream",
     "text": [
      "\\begin{array}\n",
      "    70.1 &    23.8 &    47.7 &     1.7\\\\\n",
      "    67.8 &    26.4 &    45.1 &     1.7\\\\\n",
      "    73.0 &    34.2 &    43.7 &     1.8\\\\\n",
      "    68.7 &    29.2 &    44.1 &     1.7\\\\\n",
      "    59.7 &    14.5 &    47.2 &     1.4\\\\\n",
      "    72.0 &    56.8 &    27.4 &     1.4\\\\\n",
      "    63.7 &    23.0 &    44.8 &     1.5\\\\\n",
      "    67.5 &     4.6 &    55.6 &     1.6\\\\\n",
      "    65.7 &    26.4 &    44.0 &     1.6\\\\\n",
      "    70.5 &     0.7 &    58.6 &     1.6\\\\\n",
      "    72.8 &     1.2 &    59.4 &     1.7\\\\\n",
      "    99.6 &    37.4 &    55.3 &     3.0\\\\\n",
      "   103.4 &    39.2 &    56.2 &     3.1\\\\\n",
      "   106.1 &    18.0 &    65.8 &     3.2\n",
      "\\end{array}\n",
      "None\n"
     ]
    }
   ],
   "source": [
    "U2 = 138\n",
    "\n",
    "E2 = U2/d\n",
    "\n",
    "v_p = unp.uarray([70.1, 67.8, 73.0, 68.7, 59.7, 72.0, 63.7, 67.5, 65.67, 70.5, 72.8, 99.6, 103.4, 106.1, ], 14 * [0.001]) * 1e-6\n",
    "\n",
    "v_m = unp.uarray([23.8, 26.4, 34.2, 29.2, 14.5, 56.8, 23.0, 4.6, 26.37, 0.7, 1.2, 37.4, 39.2, 18.0], 14 * [0.001]) * 1e-6\n",
    "\n",
    "\n",
    "\n",
    "r2 = unp.sqrt(9 * nu_zr * (v_p - v_m) / (4 * g * (rho - rho_zr)))\n",
    "\n",
    "q2 = 3 * np.pi * r2 * nu_zr * (v_p + v_m) / E2\n",
    "\n",
    "data2 = np.array([unp.nominal_values(v_p) * 1e6, unp.nominal_values(v_m) * 1e6, unp.nominal_values(r2) * 1e8, unp.nominal_values(q2 / q_0_theor)]).T\n",
    "\n",
    "print(a2l.to_ltx(data2, frmt='{:6.1f}', arraytype='array'))"
   ]
  },
  {
   "cell_type": "code",
   "execution_count": 5,
   "metadata": {},
   "outputs": [
    {
     "data": {
      "image/png": "[encoded data removed]",
      "text/plain": [
       "<Figure size 432x288 with 1 Axes>"
      ]
     },
     "metadata": {
      "needs_background": "light"
     },
     "output_type": "display_data"
    }
   ],
   "source": [
    "N = np.arange(len(q1))\n",
    "q1.sort()\n",
    "\n",
    "fig, ax = plt.subplots(1, 1)\n",
    "\n",
    "ax.plot(unp.nominal_values(q1) / q_0_theor, N, color='green', linestyle='', marker='o')\n",
    "\n",
    "ax.set_title(f'Število $N$ izmerjenih nabojev, manjših od $q$')\n",
    "ax.set_xlabel(r'$q\\,[1.602 \\cdot 10^{-19}\\,\\mathrm{As}]$')\n",
    "ax.set_ylabel(r'$N(q)$')\n",
    "#ax.set_ylim(0, 15)\n",
    "#ax.grid(which='both', linestyle=':', axis='both')\n",
    "#ax.legend()\n",
    "fig.tight_layout()\n",
    "fig.savefig(f'1metoda.pdf')"
   ]
  },
  {
   "cell_type": "code",
   "execution_count": 6,
   "metadata": {},
   "outputs": [
    {
     "data": {
      "image/png": "[encoded data removed]",
      "text/plain": [
       "<Figure size 432x288 with 1 Axes>"
      ]
     },
     "metadata": {
      "needs_background": "light"
     },
     "output_type": "display_data"
    }
   ],
   "source": [
    "N = np.arange(len(q2))\n",
    "q2.sort()\n",
    "\n",
    "fig, ax = plt.subplots(1, 1)\n",
    "\n",
    "ax.plot(unp.nominal_values(q2) / q_0_theor, N, color='green', linestyle='', marker='o')\n",
    "\n",
    "ax.set_title(f'Število $N$ izmerjenih nabojev, manjših od $q$')\n",
    "ax.set_xlabel(r'$q\\,[1.602 \\cdot 10^{-19}\\,\\mathrm{As}]$')\n",
    "ax.set_ylabel(r'$N(q)$')\n",
    "#ax.set_ylim(0, 15)\n",
    "#ax.grid(which='both', linestyle=':', axis='both')\n",
    "#ax.legend()\n",
    "fig.tight_layout()\n",
    "fig.savefig(f'2metoda.pdf')"
   ]
  }
 ],
 "metadata": {
  "kernelspec": {
   "display_name": "Python 3",
   "language": "python",
   "name": "python3"
  },
  "language_info": {
   "codemirror_mode": {
    "name": "ipython",
    "version": 3
   },
   "file_extension": ".py",
   "mimetype": "text/x-python",
   "name": "python",
   "nbconvert_exporter": "python",
   "pygments_lexer": "ipython3",
   "version": "3.10.9"
  },
  "orig_nbformat": 4,
  "vscode": {
   "interpreter": {
    "hash": "e7370f93d1d0cde622a1f8e1c04877d8463912d04d973331ad4851f04de6915a"
   }
  }
 },
 "nbformat": 4,
 "nbformat_minor": 2
}
