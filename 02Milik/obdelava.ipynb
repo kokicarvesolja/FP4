{
 "cells": [
  {
   "cell_type": "code",
   "execution_count": 2,
   "metadata": {},
   "outputs": [],
   "source": [
    "import matplotlib.pyplot as plt\n",
    "from matplotlib import rc\n",
    "import numpy as np\n",
    "from scipy.optimize import curve_fit\n",
    "from uncertainties import ufloat\n",
    "from uncertainties import unumpy as unp\n",
    "import array_to_latex as a2l\n",
    "import csv\n",
    "import pandas as pd\n",
    "from astropy.io.votable import parse\n",
    "from astropy.table import QTable, Table, Column\n",
    "\n",
    "rc('font', **{'family': 'serif', 'serif': ['Computer Modern']}) #font na grafih je LaTexov\n",
    "rc('text', usetex=True)"
   ]
  },
  {
   "cell_type": "code",
   "execution_count": 23,
   "metadata": {},
   "outputs": [],
   "source": [
    "data = unp.uarray([13.4, 13.6, 17.7, 42.0, 24.8, 30.4, 27.1, 24.6, 22.8, 8.75, 29.9, 41.3, 51.5, 56.3, 27.7, 34.2, 50.3], 17*[0.001]) * 1e-6\n",
    "\n",
    "\n",
    "# Constants\n",
    "q_0_theor = 1.6022e-19\n",
    "g = 9.807\n",
    "p = 102e5\n",
    "T = 273.15 + 23\n",
    "M_zr = 28.96 # kg/kmol\n",
    "R = 8314 # J/K kmol \n",
    "rho_zr = p*M_zr / (R*T)\n",
    "nu_zr = 18.3e-6\n",
    "\n",
    "rho = 973\n",
    "d = unp.uarray([5e-3], [0.1e-3])\n",
    "U = 154"
   ]
  },
  {
   "cell_type": "code",
   "execution_count": 27,
   "metadata": {},
   "outputs": [
    {
     "name": "stdout",
     "output_type": "stream",
     "text": [
      "[0.3401917923286724+/-0.006803942416179465\n",
      " 0.3478363749687031+/-0.006956833282501959\n",
      " 0.5164479208459203+/-0.01032905114271608\n",
      " 1.8877330064734616+/-0.037754720324989055\n",
      " 0.8565331088269705+/-0.017130740512708135\n",
      " 1.1624573002691887+/-0.023249216759499564\n",
      " 0.978409295502556+/-0.01956826084832469\n",
      " 0.8461927390757483+/-0.01692393343547585\n",
      " 0.7550381646358446+/-0.01510084499243579\n",
      " 0.17950589413065293+/-0.0035902497620722293\n",
      " 1.133896504004121+/-0.022678001423331404\n",
      " 1.8407368698281046+/-0.036814798100068345\n",
      " 2.563170389694793+/-0.051263462154630325\n",
      " 2.9297409816491373+/-0.05859487162477284\n",
      " 1.0110817871287365+/-0.0202217098648053\n",
      " 1.3870936797640037+/-0.027741940302921472\n",
      " 2.474107759701561+/-0.04948221019938049]\n"
     ]
    }
   ],
   "source": [
    "r1 = unp.sqrt(( 9 * nu_zr * data ) / (2 * (rho - rho_zr) * g))\n",
    "\n",
    "E = U / d\n",
    "\n",
    "q1 = (4 * np.pi * r1 ** 3 * (rho - rho_zr) * g) / (3 * E)\n",
    "\n",
    "print(q1 / q_0_theor)"
   ]
  },
  {
   "cell_type": "code",
   "execution_count": 28,
   "metadata": {},
   "outputs": [
    {
     "name": "stdout",
     "output_type": "stream",
     "text": [
      "[0.8620545754721208+/-0.017241136749664886\n",
      " 0.7288930116993972+/-0.014577908076603445\n",
      " 0.6613187910384536+/-0.01322642524035737\n",
      " 0.6792957824413343+/-0.013585964628565686\n",
      " 0.8315166062670305+/-0.01663037791274048\n",
      " 0.16215436978392686+/-0.003243166352329065\n",
      " 0.7104849594209925+/-0.01420974744070162\n",
      " 1.3650207175463485+/-0.027300453165084643\n",
      " 0.6741431101323169+/-0.013482911306856651\n",
      " 1.5956822301763487+/-0.031913681449313815\n",
      " 1.657802568641067+/-0.03315608775251585\n",
      " 1.3422977177671447+/-0.026845993387296523\n",
      " 1.407556435778415+/-0.028151167134739054\n",
      " 2.262700836271083+/-0.04525404952193577]\n"
     ]
    }
   ],
   "source": [
    "U2 = 138\n",
    "\n",
    "E2 = U2/d\n",
    "\n",
    "v_p = unp.uarray([70.1, 67.8, 73.0, 68.7, 59.7, 72.0, 63.7, 67.5, 65.67, 70.5, 72.8, 99.6, 103.4, 106.1, ], 14 * [0.001]) * 1e-6\n",
    "\n",
    "v_m = unp.uarray([23.8, 26.4, 34.2, 29.2, 14.5, 56.8, 23.0, 4.6, 26.37, 0.7, 1.2, 37.4, 39.2, 18.0], 14 * [0.001]) * 1e-6\n",
    "\n",
    "\n",
    "\n",
    "r2 = unp.sqrt(9 * nu_zr * (v_p - v_m) / (4 * g * (rho - rho_zr)))\n",
    "\n",
    "q2 = 3 * np.pi * r2 * nu_zr * (v_p - v_m) / E2\n",
    "\n",
    "print(q2 / q_0_theor)"
   ]
  },
  {
   "cell_type": "code",
   "execution_count": 32,
   "metadata": {},
   "outputs": [
    {
     "data": {
      "image/png": "[encoded data removed]",
      "text/plain": [
       "<Figure size 432x288 with 1 Axes>"
      ]
     },
     "metadata": {
      "needs_background": "light"
     },
     "output_type": "display_data"
    }
   ],
   "source": [
    "N = np.arange(len(q1))\n",
    "q1.sort()\n",
    "\n",
    "fig, ax = plt.subplots(1, 1)\n",
    "\n",
    "ax.plot(unp.nominal_values(q1) / q_0_theor, N, color='green', linestyle='', marker='o')\n",
    "\n",
    "ax.set_title(f'Število $N$ izmerjenih nabojev, manjših od $q$')\n",
    "ax.set_xlabel(r'$q\\,[1.602 \\cdot 10^{-19}\\,\\mathrm{As}]$')\n",
    "ax.set_ylabel(r'$N(q)$')\n",
    "#ax.set_ylim(0, 15)\n",
    "#ax.grid(which='both', linestyle=':', axis='both')\n",
    "#ax.legend()\n",
    "fig.tight_layout()\n",
    "fig.savefig(f'1metoda.pdf')"
   ]
  },
  {
   "cell_type": "code",
   "execution_count": 33,
   "metadata": {},
   "outputs": [
    {
     "data": {
      "image/png": "[encoded data removed]",
      "text/plain": [
       "<Figure size 432x288 with 1 Axes>"
      ]
     },
     "metadata": {
      "needs_background": "light"
     },
     "output_type": "display_data"
    }
   ],
   "source": [
    "N = np.arange(len(q2))\n",
    "q2.sort()\n",
    "\n",
    "fig, ax = plt.subplots(1, 1)\n",
    "\n",
    "ax.plot(unp.nominal_values(q2) / q_0_theor, N, color='green', linestyle='', marker='o')\n",
    "\n",
    "ax.set_title(f'Število $N$ izmerjenih nabojev, manjših od $q$')\n",
    "ax.set_xlabel(r'$q\\,[1.602 \\cdot 10^{-19}\\,\\mathrm{As}]$')\n",
    "ax.set_ylabel(r'$N(q)$')\n",
    "#ax.set_ylim(0, 15)\n",
    "#ax.grid(which='both', linestyle=':', axis='both')\n",
    "#ax.legend()\n",
    "fig.tight_layout()\n",
    "fig.savefig(f'2metoda.pdf')"
   ]
  }
 ],
 "metadata": {
  "kernelspec": {
   "display_name": "Python 3",
   "language": "python",
   "name": "python3"
  },
  "language_info": {
   "codemirror_mode": {
    "name": "ipython",
    "version": 3
   },
   "file_extension": ".py",
   "mimetype": "text/x-python",
   "name": "python",
   "nbconvert_exporter": "python",
   "pygments_lexer": "ipython3",
   "version": "3.10.9 (main, Dec 19 2022, 17:35:49) [GCC 12.2.0]"
  },
  "orig_nbformat": 4,
  "vscode": {
   "interpreter": {
    "hash": "e7370f93d1d0cde622a1f8e1c04877d8463912d04d973331ad4851f04de6915a"
   }
  }
 },
 "nbformat": 4,
 "nbformat_minor": 2
}
