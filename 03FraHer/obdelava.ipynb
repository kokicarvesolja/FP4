{
 "cells": [
  {
   "cell_type": "code",
   "execution_count": 1,
   "metadata": {},
   "outputs": [],
   "source": [
    "import matplotlib.pyplot as plt\n",
    "from matplotlib import rc\n",
    "import numpy as np\n",
    "from scipy.optimize import curve_fit\n",
    "from uncertainties import ufloat\n",
    "from uncertainties import unumpy as unp\n",
    "import array_to_latex as a2l\n",
    "import csv\n",
    "import pandas as pd\n",
    "from astropy.io.votable import parse\n",
    "from astropy.table import QTable, Table, Column\n",
    "\n",
    "rc('font', **{'family': 'serif', 'serif': ['Computer Modern']}) #font na grafih je LaTexov\n",
    "rc('text', usetex=True)"
   ]
  },
  {
   "cell_type": "code",
   "execution_count": 18,
   "metadata": {},
   "outputs": [
    {
     "name": "stdout",
     "output_type": "stream",
     "text": [
      "[-15.6 -10.4  -5.2   0. ]\n"
     ]
    }
   ],
   "source": [
    "R = 1e3 \n",
    "q_0 = 1.602e-19\n",
    "\n",
    "d180 = pd.read_csv('./meritve/180.csv', delimiter=';')\n",
    "d180 = np.array(d180)\n",
    "\n",
    "d160 = pd.read_csv('./meritve/160.csv', delimiter=';')\n",
    "d160 = np.array(d160)\n",
    "\n",
    "d140 = pd.read_csv('./meritve/140.csv', delimiter=';')\n",
    "d140 = np.array(d140)\n",
    "\n",
    "d120 = pd.read_csv('./meritve/120.csv', delimiter=';')\n",
    "d120 = np.array(d120)\n",
    "\n",
    "print(d180[1:, 0])\n",
    "\n",
    "    "
   ]
  },
  {
   "cell_type": "code",
   "execution_count": 55,
   "metadata": {},
   "outputs": [
    {
     "data": {
      "image/png": "[encoded data removed]",
      "text/plain": [
       "<Figure size 432x360 with 4 Axes>"
      ]
     },
     "metadata": {
      "needs_background": "light"
     },
     "output_type": "display_data"
    }
   ],
   "source": [
    "fig, axs = plt.subplots(2, 2, figsize=[6, 5])\n",
    "\n",
    "aux = [[180, 160, 140, 120], axs.flat, [d180, d160, d140, d120]]\n",
    "\n",
    "\n",
    "res=[]\n",
    "\n",
    "for T, ax, data in zip(*aux): \n",
    "    U1 = data[1:, 0]\n",
    "    U2 = data[1:, 1] - data[1, 1]\n",
    "    I2 = U2 * 1e3 / R\n",
    "\n",
    "    dU = np.diff(U1)\n",
    "    res.append(dU)\n",
    "\n",
    "    ax.scatter(U1, 1e3 * I2, label='meritve')\n",
    "\n",
    "    ax.set_title(f'$T = {T}\\\\, \\\\mathrm{{^\\circ C}}$')\n",
    "    ax.set_ylabel(r'$I_2[mA]$')\n",
    "    ax.set_xlabel(r'$U_1[V]$')\n",
    "\n",
    "fig.tight_layout()\n",
    "fig.savefig('./grafi.pdf')\n"
   ]
  },
  {
   "cell_type": "code",
   "execution_count": 56,
   "metadata": {},
   "outputs": [
    {
     "data": {
      "text/plain": [
       "(5.004999999999999, 0.693225)"
      ]
     },
     "execution_count": 56,
     "metadata": {},
     "output_type": "execute_result"
    }
   ],
   "source": [
    "deltaU = np.mean(list(map(np.mean, res)))\n",
    "delta2U = np.mean([(deltaU - dU) ** 2 for arr in res for dU in arr])\n",
    "\n",
    "deltaU, delta2U"
   ]
  }
 ],
 "metadata": {
  "kernelspec": {
   "display_name": "Python 3",
   "language": "python",
   "name": "python3"
  },
  "language_info": {
   "codemirror_mode": {
    "name": "ipython",
    "version": 3
   },
   "file_extension": ".py",
   "mimetype": "text/x-python",
   "name": "python",
   "nbconvert_exporter": "python",
   "pygments_lexer": "ipython3",
   "version": "3.10.9"
  },
  "orig_nbformat": 4,
  "vscode": {
   "interpreter": {
    "hash": "e7370f93d1d0cde622a1f8e1c04877d8463912d04d973331ad4851f04de6915a"
   }
  }
 },
 "nbformat": 4,
 "nbformat_minor": 2
}
