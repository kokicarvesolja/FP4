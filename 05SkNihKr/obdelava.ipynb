{
 "cells": [
  {
   "cell_type": "code",
   "execution_count": 3,
   "metadata": {},
   "outputs": [],
   "source": [
    "import matplotlib.pyplot as plt\n",
    "from matplotlib import rc\n",
    "import numpy as np\n",
    "from scipy.optimize import curve_fit\n",
    "from uncertainties import ufloat\n",
    "from uncertainties import unumpy as unp\n",
    "import array_to_latex as a2l\n",
    "import csv\n",
    "import pandas as pd\n",
    "from astropy.io.votable import parse\n",
    "from astropy.table import QTable, Table, Column\n",
    "\n",
    "rc('font', **{'family': 'serif', 'serif': ['Computer Modern']}) #font na grafih je LaTexov\n",
    "rc('text', usetex=True)"
   ]
  },
  {
   "cell_type": "markdown",
   "metadata": {},
   "source": [
    "# csv datotekam odstrani vse razen ene vrstice z besedilom (seconds, volt, volt, volt)\n",
    "\n",
    "data = pd.read_csv('meritve/CSV1/SDS00001.csv', delimiter=',')\n",
    "data = np.array(data)\n",
    "t = data[:, 0]\n",
    "\n",
    "cond = -10 * 1e-6 < t\n",
    "\n",
    "t = t[cond]\n",
    "\n",
    "U1 = data[:, 1]\n",
    "U1 = U1[cond]\n",
    "\n",
    "U2 = data[:, 2]\n",
    "U2 = U2[cond]\n",
    "\n",
    "step = data[:, 3]\n",
    "\n",
    "\n",
    "fig, axs = plt.subplots(2, 1)\n",
    "\n",
    "axs[0].scatter(1e6 * t, 1e3 * U1, marker='o', color='k', s=8, alpha=0.5)\n",
    "axs[1].scatter(1e6 * t, 1e3 * U2, marker='o', s=8, alpha=0.5)\n",
    "\n",
    "# ind. za maksimume in minimume U1\n",
    "\n",
    "n = 0\n",
    "\n",
    "t_slice = 16e-6\n",
    "\n",
    "ind_max, ind_min = [], []\n",
    "slice_ind = (t > n * t_slice) * (t < (n + 1) * t_slice)\n",
    "while np.any(slice_ind):\n",
    "    ind_max.append(np.argmax((U1 + 10) * slice_ind))\n",
    "    ind_min.append(np.argmin((U1 - 10) * slice_ind))\n",
    "    n += 1\n",
    "    slice_ind = (t > (n * t_slice - 0)) * (t < ((n + 1) * t_slice - 0))\n",
    "\n",
    "axs[0].scatter(1e6 * t[ind_max], 1e3 * U1[ind_max], marker='o', color='r', s=8, alpha=0.5)\n",
    "axs[0].scatter(1e6 * t[ind_min], 1e3 * U1[ind_min], marker='o', color='r', s=8, alpha=0.5)\n",
    "\n",
    "#ind. za maksimume in minimume U2\n",
    "\n",
    "n = 0\n",
    "\n",
    "ind_max, ind_min = [], []\n",
    "slice_ind = (t > n * t_slice) * (t < (n + 1) * t_slice)\n",
    "while np.any(slice_ind):\n",
    "    ind_max.append(np.argmax((U2 + 10) * slice_ind))\n",
    "    ind_min.append(np.argmin((U2 - 10) * slice_ind))\n",
    "    n += 1\n",
    "    slice_ind = (t > (n * t_slice - 0)) * (t < ((n + 1) * t_slice - 0))\n",
    "\n",
    "axs[1].scatter(1e6 * t[ind_max], 1e3 * U2[ind_max], marker='o', color='r', s=8, alpha=0.5)\n",
    "axs[1].scatter(1e6 * t[ind_min], 1e3 * U2[ind_min], marker='o', color='r', s=8, alpha=0.5)"
   ]
  },
  {
   "cell_type": "code",
   "execution_count": 3,
   "metadata": {},
   "outputs": [],
   "source": [
    "from matplotlib.ticker import AutoMinorLocator\n",
    "\n",
    "def prvi_del(ime, C, t_slice, t0=0):\n",
    "\n",
    "    # csv datotekam odstrani vse razen ene vrstice z besedilom (seconds, volt, volt, volt)\n",
    "\n",
    "    data = pd.read_csv(ime, delimiter=',')\n",
    "    data = np.array(data)\n",
    "    t = data[:, 0]\n",
    "\n",
    "    cond = -10 * 1e-6 < t #vse meritve večje od 10 * 1e-6\n",
    "\n",
    "    t = t[cond]\n",
    "\n",
    "    U1 = data[:, 1]\n",
    "    U1 = U1[cond]\n",
    "\n",
    "    U2 = data[:, 2]\n",
    "    U2 = U2[cond]\n",
    "\n",
    "\n",
    "    fig, axs = plt.subplots(2, 1)\n",
    "\n",
    "    axs[0].scatter(1e6 * t, 1e3 * U1, marker='o', color='k', s=8, alpha=0.5, label=r'meritve')\n",
    "    axs[1].scatter(1e6 * t, 1e3 * U2, marker='o', s=8, alpha=0.5, label=r'meritve')\n",
    "\n",
    "    # ind. za maksimume in minimume U1\n",
    "\n",
    "    n = 0\n",
    "\n",
    "    ind_max, ind_min = [], []\n",
    "    slice_ind = (t > n * t_slice) * (t < (n + 1) * t_slice)\n",
    "    while np.any(slice_ind):\n",
    "        ind_max.append(np.argmax((U1 + 10) * slice_ind))\n",
    "        ind_min.append(np.argmin((U1 - 10) * slice_ind))\n",
    "        n += 1\n",
    "        slice_ind = (t > (n * t_slice - t0)) * (t < ((n + 1) * t_slice - t0))\n",
    "\n",
    "    axs[0].scatter(1e6 * t[ind_max], 1e3 * U1[ind_max], marker='o', color='r', s=8, alpha=0.5)\n",
    "    axs[0].scatter(1e6 * t[ind_min], 1e3 * U1[ind_min], marker='o', color='r', s=8, alpha=0.5)\n",
    "\n",
    "    #ind. za maksimume in minimume U2\n",
    "\n",
    "    n = 0\n",
    "\n",
    "    ind_max, ind_min = [], []\n",
    "    slice_ind = (t > n * t_slice) * (t < (n + 1) * t_slice)\n",
    "    while np.any(slice_ind):\n",
    "        ind_max.append(np.argmax((U2 + 10) * slice_ind))\n",
    "        ind_min.append(np.argmin((U2 - 10) * slice_ind))\n",
    "        n += 1\n",
    "        slice_ind = (t > (n * t_slice - t0)) * (t < ((n + 1) * t_slice - t0))\n",
    "\n",
    "    axs[1].scatter(1e6 * t[ind_max], 1e3 * U2[ind_max], marker='o', color='r', s=8, alpha=0.5)\n",
    "    axs[1].scatter(1e6 * t[ind_min], 1e3 * U2[ind_min], marker='o', color='r', s=8, alpha=0.5)\n",
    "\n",
    "    for i, ax in enumerate(axs): \n",
    "        ax.set_title(f'Potek $U_{i + 1}$ pri $C_0 = {C} pF$')\n",
    "        ax.set_xlabel(r'$t [\\mu s]$')\n",
    "        ax.set_ylabel(r'$U [mV]$')\n",
    "        ax.legend()\n",
    "        ax.set_axisbelow(True)\n",
    "        ax.grid()\n",
    "        ax.grid(which='minor', linestyle=':')\n",
    "        ax.xaxis.set_minor_locator(AutoMinorLocator(10))\n",
    "        ax.yaxis.set_minor_locator(AutoMinorLocator(5))\n",
    "    fig.tight_layout()\n",
    "    fig.savefig(f'C{C}.pdf')"
   ]
  },
  {
   "cell_type": "code",
   "execution_count": 4,
   "metadata": {},
   "outputs": [],
   "source": [
    "prvi_del('meritve/CSV1/SDS00001.csv', 0, 16e-6) #prvi parameter je ime datoteke, drugi je kapaciteta kondenzatorja in tretje ne spreminjaj\n",
    "prvi_del('meritve/CSV1/SDS00002.csv', 150, 16e-6)\n",
    "prvi_del('meritve/CSV1/SDS00003.csv', 330, 16e-6)\n",
    "prvi_del('meritve/CSV1/SDS00004.csv', 560, 16e-6)\n",
    "prvi_del('meritve/CSV1/SDS00005.csv', 820, 16e-6)\n",
    "prvi_del('meritve/CSV1/SDS00006.csv', 1150, 16e-6)"
   ]
  },
  {
   "cell_type": "code",
   "execution_count": 4,
   "metadata": {},
   "outputs": [],
   "source": [
    "def omega (N, Nt_0, dNt_0): \n",
    "    Nt_0 = unp.uarray([Nt_0], [dNt_0])\n",
    "    return 2 * np.pi * Nt_0"
   ]
  },
  {
   "cell_type": "code",
   "execution_count": 13,
   "metadata": {},
   "outputs": [],
   "source": [
    " def domega_dBeta(T_0, dT_0, U_0, dU_0, bU_T_0, dU_T_0):\n",
    "    T_0 = unp.uarray([T_0], [dT_0])\n",
    "    U_0 = unp.uarray([U_0], [dU_0])\n",
    "    bU_T_0 = unp.uarray([bU_T_0], [dU_T_0])\n",
    "    omega = 2*np.pi / T_0\n",
    "    beta = 1/T_0 * unp.log(U_0 / bU_T_0)\n",
    "    return omega, beta "
   ]
  },
  {
   "cell_type": "code",
   "execution_count": 11,
   "metadata": {},
   "outputs": [
    {
     "name": "stdout",
     "output_type": "stream",
     "text": [
      "[[1.2566370614359172+/-0.031415926535897934]\n",
      " [2.5132741228718345+/-0.031415926535897934]\n",
      " [3.64424747816416+/-0.031415926535897934]\n",
      " [3.7699111843077513+/-0.031415926535897934]\n",
      " [3.9898226700590373+/-0.031415926535897934]\n",
      " [3.958406743523139+/-0.031415926535897934]]\n",
      "\\begin{array}\n",
      "    1.26\\\\\n",
      "    2.51\\\\\n",
      "    3.64\\\\\n",
      "    3.77\\\\\n",
      "    3.99\\\\\n",
      "    3.96\n",
      "\\end{array}\n",
      "None\n",
      "\\begin{array}\n",
      "    1.95\\\\\n",
      "    3.14\\\\\n",
      "    3.77\\\\\n",
      "    1.95\\\\\n",
      "    2.14\\\\\n",
      "    3.14\n",
      "\\end{array}\n",
      "None\n"
     ]
    }
   ],
   "source": [
    "# U1 \n",
    "\n",
    "omegaU1a = omega(14, 200e-6, 5e-6) #število maksimumov, čas teh maksimumov + napaka za čas\n",
    "omegaU1b = omega(27, 400e-6, 5e-6)\n",
    "omegaU1c = omega(38, 580e-6, 5e-6)\n",
    "omegaU1d = omega(37, 600e-6, 5e-6)\n",
    "omegaU1e = omega(37, 635e-6, 5e-6)\n",
    "omegaU1f = omega(36, 630e-6, 5e-6)\n",
    "\n",
    "omegaU1 = unp.matrix([omegaU1a, omegaU1b, omegaU1c, omegaU1d, omegaU1e, omegaU1f])\n",
    "\n",
    "print(omegaU1 * 1e3)\n",
    "\n",
    "print(a2l.to_ltx(unp.nominal_values(omegaU1) * 1e3, frmt='{:6.2f}', arraytype='array'))\n",
    "\n",
    "# U2\n",
    "\n",
    "omegaU2a = omega(22, 310e-6, 5e-6)\n",
    "omegaU2b = omega(33, 500e-6, 5e-6)\n",
    "omegaU2c = omega(40, 600e-6, 5e-6)\n",
    "omegaU2d = omega(21, 310e-6, 5e-6)\n",
    "omegaU2e = omega(21, 340e-6, 5e-6)\n",
    "omegaU2f = omega(30, 500e-6, 5e-6)\n",
    "\n",
    "omegaU2 = unp.matrix([omegaU2a, omegaU2b, omegaU2c, omegaU2d, omegaU2e, omegaU2f])\n",
    "\n",
    "print(a2l.to_ltx(unp.nominal_values(omegaU2) * 1e3, frmt='{:6.2f}', arraytype='array'))\n"
   ]
  },
  {
   "cell_type": "code",
   "execution_count": 55,
   "metadata": {},
   "outputs": [
    {
     "name": "stdout",
     "output_type": "stream",
     "text": [
      "\\begin{array}\n",
      "   31.42 &    0.79 &   10.52 &    1.04\\\\\n",
      "   24.17 &    0.46 &    6.53 &    1.31\\\\\n",
      "   18.48 &    0.27 &    6.12 &    1.48\\\\\n",
      "   17.95 &    0.26 &    5.94 &    1.44\\\\\n",
      "   16.98 &    0.23 &    5.45 &    1.37\\\\\n",
      "   20.27 &    0.33 &    6.28 &    1.63\n",
      "\\end{array}\n",
      "None\n",
      "\\begin{array}\n",
      "   22.44 &    0.40 &    6.40 &    1.81\\\\\n",
      "   17.70 &    0.25 &    5.68 &    1.71\\\\\n",
      "   15.71 &    0.20 &    5.76 &    2.51\\\\\n",
      "   23.71 &    0.45 &    6.76 &    1.92\\\\\n",
      "   23.27 &    0.43 &    6.64 &    1.88\\\\\n",
      "   28.56 &    0.65 &    8.14 &    2.31\n",
      "\\end{array}\n",
      "None\n"
     ]
    }
   ],
   "source": [
    "# U1\n",
    "\n",
    "domegaU1a, betaU1a = domega_dBeta(200e-6, 5e-6, 8.2e-3, 0.2e-3, 1e-3, 0.2e-3) # čas od maksimuma do kasnejšega maksimuma, napaka časa, maksimum + napaka, maksimum kasneje + napaka \n",
    "domegaU1b, betaU1b = domega_dBeta(260e-6, 5e-6, 8.2e-3, 0.5e-3, 1.5e-3, 0.5e-3)\n",
    "domegaU1c, betaU1c = domega_dBeta(340e-6, 5e-6, 8e-3, 0.5e-3, 1e-3, 0.5e-3)\n",
    "domegaU1d, betaU1d = domega_dBeta(350e-6, 5e-6, 8e-3, 0.5e-3, 1e-3, 0.5e-3)\n",
    "domegaU1e, betaU1e = domega_dBeta(370e-6, 5e-6, 7.5e-3, 0.5e-3, 1e-3, 0.5e-3)\n",
    "domegaU1f, betaU1f = domega_dBeta(310e-6, 5e-6, 7e-3, 0.5e-3, 1e-3, 0.5e-3)\n",
    "\n",
    "dataO = np.array([unp.nominal_values([domegaU1a, domegaU1b, domegaU1c, domegaU1d, domegaU1e, domegaU1f]), unp.std_devs([domegaU1a, domegaU1b, domegaU1c, domegaU1d, domegaU1e, domegaU1f]), unp.nominal_values([betaU1a, betaU1b, betaU1c, betaU1d, betaU1e, betaU1f]), unp.std_devs([betaU1a, betaU1b, betaU1c, betaU1d, betaU1e, betaU1f])])\n",
    "\n",
    "datao = np.squeeze(dataO, axis=2).T * 1e-3\n",
    "\n",
    "print(a2l.to_ltx(datao, frmt='{:6.2f}', arraytype='array'))\n",
    "\n",
    "# U2 \n",
    "\n",
    "domegaU2a, betaU2a = domega_dBeta(280e-6, 5e-6, 2.4e-3, 0.2e-3, 0.4e-3, 0.2e-3)\n",
    "domegaU2b, betaU2b = domega_dBeta(355e-6, 5e-6, 3.75e-3, 0.3e-3, 0.5e-3, 0.3e-3)\n",
    "domegaU2c, betaU2c = domega_dBeta(400e-6, 5e-6, 5e-3, 0.5e-3, 0.5e-3, 0.5e-3)\n",
    "domegaU2d, betaU2d = domega_dBeta(265e-6, 5e-6, 6e-3, 0.5e-3, 1e-3, 0.5e-3)\n",
    "domegaU2e, betaU2e = domega_dBeta(270e-6, 5e-6, 6e-3, 0.5e-3, 1e-3, 0.5e-3)\n",
    "domegaU2f, betaU2f = domega_dBeta(220e-6, 5e-6, 6e-3, 0.5e-3, 1e-3, 0.5e-3)\n",
    "\n",
    "data2 = np.array([unp.nominal_values([domegaU2a, domegaU2b, domegaU2c, domegaU2d, domegaU2e, domegaU2f]), unp.std_devs([domegaU2a, domegaU2b, domegaU2c, domegaU2d, domegaU2e, domegaU2f]), unp.nominal_values([betaU2a, betaU2b, betaU2c, betaU2d, betaU2e, betaU2f]), unp.std_devs([betaU2a, betaU2b, betaU2c, betaU2d, betaU2e, betaU2f])])\n",
    "\n",
    "data2 = np.squeeze(data2, axis=2).T * 1e-3\n",
    "\n",
    "print(a2l.to_ltx(data2, frmt='{:6.2f}', arraytype='array'))\n",
    "\n"
   ]
  },
  {
   "cell_type": "code",
   "execution_count": 11,
   "metadata": {},
   "outputs": [
    {
     "data": {
      "text/plain": [
       "(array([420973.4155810323+/-2000.0], dtype=object),\n",
       " array([12566.370614359155+/-2000.0], dtype=object),\n",
       " array([33.50000000000005+/-5.33406551155534], dtype=object))"
      ]
     },
     "execution_count": 11,
     "metadata": {},
     "output_type": "execute_result"
    },
    {
     "data": {
      "image/png": "[encoded data removed]",
      "text/plain": [
       "<Figure size 432x288 with 1 Axes>"
      ]
     },
     "metadata": {
      "needs_background": "light"
     },
     "output_type": "display_data"
    }
   ],
   "source": [
    "data = np.loadtxt('meritve/2del.dat') #kratko staknjen krog\n",
    "data_b = np.loadtxt('meritve/21del.dat') #nepovezana kroga\n",
    "\n",
    "data[:, 0] = data[:, 0] * 2 * np.pi\n",
    "data_b[:, 0] = data_b[:, 0] * 2 * np.pi\n",
    "\n",
    "omega1 = data[:, 0]\n",
    "U01 = data[:, 1]\n",
    "\n",
    "omega_b = data_b[:, 0]\n",
    "U0_b = data_b[:, 1]\n",
    "\n",
    "fig, ax = plt.subplots()\n",
    "\n",
    "ax.plot(1e-6 * omega1, 1e-3 * U01, color='k', marker='o', markersize=4, label='$U_1$ za kr. staknjena kroga')\n",
    "ax.plot(1e-6 * omega_b, 1e-3 * U0_b, marker='o', markersize=4, label='$U_1$ za nepovezana kroga')\n",
    "\n",
    "# računanje dobrote\n",
    "\n",
    "max_i = np.argmax(U01)\n",
    "omega = unp.uarray([omega1[max_i]], 0.002e6)\n",
    "\n",
    "# FWHM for U_RMS\n",
    "\n",
    "U_0_max = np.max(U01)\n",
    "s = np.flatnonzero(U01 > U_0_max / np.sqrt(2))\n",
    "i_L, i_R = s[0], s[-1]\n",
    "domega = unp.uarray([omega1[i_R] - omega1[i_L]], 0.002e6)\n",
    "\n",
    "Q = omega/domega\n",
    "\n",
    "ax.set_title('Resonančni krivulji brez kapacitetne sklopitve')\n",
    "ax.set_xlabel(r'$\\omega [s^{-1}]$')\n",
    "ax.set_ylabel(r'$U_{RMS} [mV]$')\n",
    "ax.legend()\n",
    "fig.tight_layout()\n",
    "fig.savefig('vsiljenoU1.pdf')\n",
    "\n",
    "omega, domega, Q"
   ]
  },
  {
   "cell_type": "code",
   "execution_count": 62,
   "metadata": {},
   "outputs": [
    {
     "name": "stdout",
     "output_type": "stream",
     "text": [
      "[0.4131194339470578+/-0.0015707963267948943] [0.43039819354180164+/-0.0015707963267948943]\n",
      "[0.42882739721500673+/-0.0015707963267948943] [0.43039819354180164+/-0.0015707963267948943]\n",
      "[0.42882739721500673+/-0.0015707963267948943] [0.43039819354180164+/-0.0015707963267948943]\n",
      "[0.42882739721500673+/-0.0015707963267948943] [0.43039819354180164+/-0.0015707963267948943]\n",
      "[0.42882739721500673+/-0.0015707963267948943] [0.43039819354180164+/-0.0015707963267948943]\n"
     ]
    },
    {
     "data": {
      "text/plain": [
       "(array([[41.31194339,  0.15707963],\n",
       "        [42.88273972,  0.15707963],\n",
       "        [42.88273972,  0.15707963],\n",
       "        [42.88273972,  0.15707963],\n",
       "        [42.88273972,  0.15707963]]),\n",
       " array([[43.03981935,  0.15707963],\n",
       "        [43.03981935,  0.15707963],\n",
       "        [43.03981935,  0.15707963],\n",
       "        [43.03981935,  0.15707963],\n",
       "        [43.03981935,  0.15707963]]))"
      ]
     },
     "execution_count": 62,
     "metadata": {},
     "output_type": "execute_result"
    },
    {
     "data": {
      "image/png": "[encoded data removed]",
      "text/plain": [
       "<Figure size 432x288 with 1 Axes>"
      ]
     },
     "metadata": {
      "needs_background": "light"
     },
     "output_type": "display_data"
    }
   ],
   "source": [
    "fig, ax = plt.subplots()\n",
    "\n",
    "aux = [['meritve/resU2-150.dat', 'meritve/resU2-330.dat', 'meritve/resU2-560.dat', 'meritve/resU2-820.dat', 'meritve/resU2-1150.dat'], \n",
    "[150, 330, 560, 820, 1150], ['tab:red', 'tab:orange', 'tab:green', 'tab:blue', 'tab:purple']] #imena datotek, kapaciteta, barva\n",
    "\n",
    "arr1 = np.ones((5, 2))\n",
    "arr2 = np.ones((5, 2))\n",
    "\n",
    "i = 0\n",
    "\n",
    "for name, C, color in zip(*aux):\n",
    "    data = np.loadtxt(name)\n",
    "    omega = 2 * np.pi * data[:, 0]\n",
    "    U = data[:, 1]\n",
    "\n",
    "    ax.plot(1e-6 * omega, 1e3 * U, color=color, label=f'$U_2$ za C = {C}pF', marker='o', markersize=4)\n",
    "\n",
    "    # računanje delta omege\n",
    "\n",
    "    omega_tresh = 0.43e6\n",
    "    max_ind = [np.argmax(U * (omega < omega_tresh)), np.argmax(U * (omega > omega_tresh))] # poišče maksimum pred in po omega_tresh\n",
    "    n, m = max_ind\n",
    "    omega1 = unp.uarray([omega[n]], [np.mean(np.diff(omega[n-1:n+2]))])\n",
    "    omega2 = unp.uarray([omega[m]], [np.mean(np.diff(omega[m-1:m+2]))])\n",
    "    print(omega1 * 1e-6, omega2 * 1e-6)\n",
    "    arr1[i, 0] = unp.nominal_values(omega1) * 1e-4\n",
    "    arr1[i, 1] = unp.std_devs(omega1) * 1e-4\n",
    "    arr2[i, 0] = unp.nominal_values(omega2) * 1e-4\n",
    "    arr2[i, 1] = unp.std_devs(omega2) * 1e-4\n",
    "    i += 1\n",
    "\n",
    "ax.set_title('Resonančne krivulje pri različnih sklopitvah')\n",
    "ax.set_xlabel(r'$\\omega [s^{-1}]$')\n",
    "ax.set_ylabel(r'$U_2 [mV]$')\n",
    "ax.legend()\n",
    "fig.tight_layout()\n",
    "fig.savefig('vsiljenoU2.pdf')\n",
    "\n",
    "arr1, arr2"
   ]
  },
  {
   "cell_type": "code",
   "execution_count": 81,
   "metadata": {},
   "outputs": [
    {
     "name": "stdout",
     "output_type": "stream",
     "text": [
      "[[41.31194339  0.15707963 43.03981935  0.15707963]\n",
      " [42.88273972  0.15707963 43.03981935  0.15707963]\n",
      " [42.88273972  0.15707963 43.03981935  0.15707963]\n",
      " [42.88273972  0.15707963 43.03981935  0.15707963]\n",
      " [42.88273972  0.15707963 43.03981935  0.15707963]]\n",
      "\\begin{array}\n",
      "    41.3 &     0.2 &    43.0 &     0.2\\\\\n",
      "    42.9 &     0.2 &    43.0 &     0.2\\\\\n",
      "    42.9 &     0.2 &    43.0 &     0.2\\\\\n",
      "    42.9 &     0.2 &    43.0 &     0.2\\\\\n",
      "    42.9 &     0.2 &    43.0 &     0.2\n",
      "\\end{array}\n",
      "None\n"
     ]
    }
   ],
   "source": [
    "data = np.concatenate((arr1, arr2), axis=1)\n",
    "\n",
    "print(data)\n",
    "\n",
    "print(a2l.to_ltx(data, frmt='{:6.1f}', arraytype='array'))\n",
    "\n"
   ]
  }
 ],
 "metadata": {
  "kernelspec": {
   "display_name": "Python 3",
   "language": "python",
   "name": "python3"
  },
  "language_info": {
   "codemirror_mode": {
    "name": "ipython",
    "version": 3
   },
   "file_extension": ".py",
   "mimetype": "text/x-python",
   "name": "python",
   "nbconvert_exporter": "python",
   "pygments_lexer": "ipython3",
   "version": "3.10.9"
  },
  "orig_nbformat": 4,
  "vscode": {
   "interpreter": {
    "hash": "e7370f93d1d0cde622a1f8e1c04877d8463912d04d973331ad4851f04de6915a"
   }
  }
 },
 "nbformat": 4,
 "nbformat_minor": 2
}
